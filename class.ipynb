{
  "cells": [
    {
      "cell_type": "markdown",
      "metadata": {},
      "source": [
        "# House Price Category Classification\n",
        "\n",
        "This notebook trains a machine learning model that classifies houses into **Low**, **Medium**, or **High** price categories based on the cleaned dataset.\n",
        "\n",
        "Steps performed in the notebook:\n",
        "\n",
        "1. Load and inspect the dataset.\n",
        "2. Derive price categories from the `Harga` (price) column.\n",
        "3. Train a classifier on the structural features of each house.\n",
        "4. Provide an interactive function that predicts the price category for user-supplied data.\n"
      ]
    },
    {
      "cell_type": "code",
      "execution_count": null,
      "metadata": {},
      "outputs": [],
      "source": [
        "import pandas as pd\n",
        "import numpy as np\n",
        "from pathlib import Path\n",
        "from sklearn.model_selection import train_test_split\n",
        "from sklearn.pipeline import Pipeline\n",
        "from sklearn.preprocessing import StandardScaler\n",
        "from sklearn.ensemble import RandomForestClassifier\n",
        "from sklearn.metrics import classification_report, confusion_matrix\n"
      ]
    },
    {
      "cell_type": "code",
      "execution_count": null,
      "metadata": {},
      "outputs": [],
      "source": [
        "data_path = Path('cleaned_house_data.csv')\n",
        "df = pd.read_csv(data_path)\n",
        "df.head()\n"
      ]
    },
    {
      "cell_type": "code",
      "execution_count": null,
      "metadata": {},
      "outputs": [],
      "source": [
        "# Show dataset summary statistics\n",
        "df.describe(include='all')\n"
      ]
    },
    {
      "cell_type": "code",
      "execution_count": null,
      "metadata": {},
      "outputs": [],
      "source": [
        "# Create price categories using quantiles\n",
        "quantile_edges = df['Harga'].quantile([0, 1/3, 2/3, 1]).values\n",
        "unique_edges = np.unique(quantile_edges)\n",
        "if unique_edges.shape[0] < 4:\n",
        "    unique_edges = np.linspace(df['Harga'].min(), df['Harga'].max(), 4)\n",
        "price_labels = ['Low', 'Medium', 'High']\n",
        "df['PriceCategory'] = pd.cut(df['Harga'], bins=unique_edges, labels=price_labels, include_lowest=True)\n",
        "df['PriceCategory'] = df['PriceCategory'].cat.add_categories(['High']).fillna('High')\n",
        "df[['Nama', 'Harga', 'PriceCategory']].head()\n"
      ]
    },
    {
      "cell_type": "code",
      "execution_count": null,
      "metadata": {},
      "outputs": [],
      "source": [
        "# Inspect class balance\n",
        "df['PriceCategory'].value_counts()\n"
      ]
    },
    {
      "cell_type": "code",
      "execution_count": null,
      "metadata": {},
      "outputs": [],
      "source": [
        "# Prepare features and labels\n",
        "feature_columns = ['LB', 'LT', 'KT', 'KM', 'GRS']\n",
        "X = df[feature_columns]\n",
        "y = df['PriceCategory']\n",
        "\n",
        "X_train, X_test, y_train, y_test = train_test_split(\n",
        "    X, y, test_size=0.2, random_state=42, stratify=y\n",
        ")\n",
        "\n",
        "model = Pipeline(steps=[\n",
        "    ('scaler', StandardScaler()),\n",
        "    ('classifier', RandomForestClassifier(random_state=42))\n",
        "])\n",
        "\n",
        "model.fit(X_train, y_train)\n"
      ]
    },
    {
      "cell_type": "code",
      "execution_count": null,
      "metadata": {},
      "outputs": [],
      "source": [
        "# Evaluate the classifier\n",
        "y_pred = model.predict(X_test)\n",
        "print(classification_report(y_test, y_pred))\n",
        "print('Confusion matrix:\n",
        "', confusion_matrix(y_test, y_pred))\n"
      ]
    },
    {
      "cell_type": "code",
      "execution_count": null,
      "metadata": {},
      "outputs": [],
      "source": [
        "def collect_user_features():\n",
        "    \"\"\"Prompt the user to enter house features and return them as a DataFrame.\"\"\"\n",
        "    prompts = {\n",
        "        'LB': 'Building area (LB) in square meters',\n",
        "        'LT': 'Land area (LT) in square meters',\n",
        "        'KT': 'Number of bedrooms (KT)',\n",
        "        'KM': 'Number of bathrooms (KM)',\n",
        "        'GRS': 'Number of garages/carports (GRS)'\n",
        "    }\n",
        "\n",
        "    values = {}\n",
        "    for feature, message in prompts.items():\n",
        "        while True:\n",
        "            try:\n",
        "                raw_value = input(f\"Enter {message}: \")\n",
        "                values[feature] = float(raw_value)\n",
        "                break\n",
        "            except ValueError:\n",
        "                print('Please enter a numeric value.')\n",
        "\n",
        "    return pd.DataFrame([values])\n",
        "\n",
        "\n",
        "def predict_house_category(model):\n",
        "    \"\"\"Interactively gather user input and display the predicted price category.\"\"\"\n",
        "    print('Provide the house details to receive a price category prediction.')\n",
        "    user_features = collect_user_features()\n",
        "    prediction = model.predict(user_features)[0]\n",
        "    print(f\"\n",
        "Predicted house price category: {prediction}\")\n",
        "    return user_features.assign(PredictedCategory=prediction)\n"
      ]
    },
    {
      "cell_type": "markdown",
      "metadata": {},
      "source": [
        "Run the next cell and follow the prompts to predict a category for a new house.\n"
      ]
    },
    {
      "cell_type": "code",
      "execution_count": null,
      "metadata": {},
      "outputs": [],
      "source": [
        "# Uncomment the line below to predict interactively in the notebook.\n",
        "# result = predict_house_category(model)\n",
        "# result\n"
      ]
    },
    {
      "cell_type": "code",
      "execution_count": null,
      "metadata": {},
      "outputs": [],
      "source": [
        "# Example prediction using hard-coded values (no user input).\n",
        "example_house = pd.DataFrame([{\n",
        "    'LB': 180,  # building area\n",
        "    'LT': 150,  # land area\n",
        "    'KT': 3,    # bedrooms\n",
        "    'KM': 3,    # bathrooms\n",
        "    'GRS': 1    # garages/carports\n",
        "}])\n",
        "model.predict(example_house)[0]\n"
      ]
    }
  ],
  "metadata": {
    "kernelspec": {
      "display_name": "Python 3",
      "language": "python",
      "name": "python3"
    },
    "language_info": {
      "name": "python",
      "version": "3.10"
    }
  },
  "nbformat": 4,
  "nbformat_minor": 5
}